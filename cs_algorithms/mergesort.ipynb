{
 "cells": [
  {
   "cell_type": "markdown",
   "metadata": {},
   "source": [
    "# Merge sort"
   ]
  },
  {
   "cell_type": "code",
   "execution_count": 1,
   "metadata": {},
   "outputs": [
    {
     "name": "stdout",
     "output_type": "stream",
     "text": [
      "original = [1]\n",
      "sorted   = [1]\n",
      "\n",
      "original = [1, 2, 3]\n",
      "sorted   = [1, 2, 3]\n",
      "\n",
      "original = [3, 2, 1]\n",
      "sorted   = [1, 2, 3]\n",
      "\n",
      "original = [2, 1, 4, 3]\n",
      "sorted   = [1, 2, 3, 4]\n",
      "\n",
      "original = [2, 7, 6, 8, 3, 5, 4, 1]\n",
      "sorted   = [1, 2, 3, 4, 5, 6, 7, 8]\n",
      "\n",
      "original = [1, 8, 8, 8, 5]\n",
      "sorted   = [1, 5, 8, 8, 8]\n"
     ]
    }
   ],
   "source": [
    "def merge(left: list, right: list, output: list):\n",
    "    l = r = o = 0\n",
    "    while o < len(output):\n",
    "        if l >= len(left):\n",
    "            output[o] = right[r]\n",
    "            o += 1\n",
    "            r += 1\n",
    "            continue\n",
    "        if r >= len(right):\n",
    "            output[o] = left[l]\n",
    "            o += 1\n",
    "            l += 1\n",
    "            continue\n",
    "        if left[l] <= right[r]:\n",
    "            output[o] = left[l]\n",
    "            o += 1\n",
    "            l += 1\n",
    "            continue\n",
    "        if left[l] > right[r]:\n",
    "            output[o] = right[r]\n",
    "            o += 1\n",
    "            r += 1\n",
    "            continue\n",
    "        \n",
    "    \n",
    "def mergesort(ls: list):\n",
    "    if len(ls) == 1:\n",
    "        return ls  # list of length 1 is sorted by default\n",
    "    mid_idx = len(ls) // 2\n",
    "    left = mergesort(ls[:mid_idx])\n",
    "    right = mergesort(ls[mid_idx:])\n",
    "    merge(left, right, ls)\n",
    "    return ls\n",
    "\n",
    "\n",
    "# Test\n",
    "ls = [1]\n",
    "print(f'original = {ls}')\n",
    "mergesort(ls)\n",
    "print(f'sorted   = {ls}')\n",
    "print('')\n",
    "ls = [1, 2, 3]\n",
    "print(f'original = {ls}')\n",
    "mergesort(ls)\n",
    "print(f'sorted   = {ls}')\n",
    "print('')\n",
    "ls = [3, 2, 1]\n",
    "print(f'original = {ls}')\n",
    "mergesort(ls)\n",
    "print(f'sorted   = {ls}')\n",
    "print('')\n",
    "ls = [2, 1, 4, 3]\n",
    "print(f'original = {ls}')\n",
    "mergesort(ls)\n",
    "print(f'sorted   = {ls}')\n",
    "print('')\n",
    "ls = [2, 7, 6, 8, 3, 5, 4, 1]\n",
    "print(f'original = {ls}')\n",
    "mergesort(ls)\n",
    "print(f'sorted   = {ls}')\n",
    "print('')\n",
    "ls = [1, 8, 8, 8, 5]\n",
    "print(f'original = {ls}')\n",
    "mergesort(ls)\n",
    "print(f'sorted   = {ls}')"
   ]
  }
 ],
 "metadata": {
  "kernelspec": {
   "display_name": "Python 3",
   "language": "python",
   "name": "python3"
  },
  "language_info": {
   "codemirror_mode": {
    "name": "ipython",
    "version": 3
   },
   "file_extension": ".py",
   "mimetype": "text/x-python",
   "name": "python",
   "nbconvert_exporter": "python",
   "pygments_lexer": "ipython3",
   "version": "3.7.6"
  }
 },
 "nbformat": 4,
 "nbformat_minor": 4
}
