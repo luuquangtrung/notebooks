{
 "cells": [
  {
   "cell_type": "markdown",
   "metadata": {},
   "source": [
    "# Binary search"
   ]
  },
  {
   "cell_type": "code",
   "execution_count": 1,
   "metadata": {},
   "outputs": [
    {
     "name": "stdout",
     "output_type": "stream",
     "text": [
      "-1\n",
      "[0, 1, 2, 3, 4, 5, 6, 7]\n"
     ]
    }
   ],
   "source": [
    "# Data to test\n",
    "#     0  1  2  3  4  5  6   7\n",
    "ls = [1, 2, 3, 6, 7, 9, 13, 16]\n",
    "\n",
    "def binary_search(elem: int, ls: list) -> int:\n",
    "    \"\"\"\n",
    "    Search for the given elem in the given list and return the index.\n",
    "    Return -1 is the elem was not found.\n",
    "    \"\"\"\n",
    "    low = 0\n",
    "    high = len(ls)-1\n",
    "    while True:\n",
    "        middle = low + ((high - low) // 2)\n",
    "        if ls[middle] == elem:\n",
    "            return middle\n",
    "        if low == high:\n",
    "            return -1\n",
    "        elif ls[middle] > elem:\n",
    "            high = middle - 1\n",
    "        elif ls[middle] < elem:\n",
    "            low = middle + 1\n",
    "\n",
    "\n",
    "print(binary_search(4, ls))\n",
    "print([binary_search(i, ls) for i in ls])"
   ]
  }
 ],
 "metadata": {
  "kernelspec": {
   "display_name": "Python 3",
   "language": "python",
   "name": "python3"
  },
  "language_info": {
   "codemirror_mode": {
    "name": "ipython",
    "version": 3
   },
   "file_extension": ".py",
   "mimetype": "text/x-python",
   "name": "python",
   "nbconvert_exporter": "python",
   "pygments_lexer": "ipython3",
   "version": "3.7.6"
  }
 },
 "nbformat": 4,
 "nbformat_minor": 4
}
